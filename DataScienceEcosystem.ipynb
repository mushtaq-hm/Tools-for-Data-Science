{
  "nbformat": 4,
  "nbformat_minor": 0,
  "metadata": {
    "colab": {
      "provenance": []
    },
    "kernelspec": {
      "name": "python3",
      "display_name": "Python 3"
    },
    "language_info": {
      "name": "python"
    }
  },
  "cells": [
    {
      "cell_type": "markdown",
      "source": [
        "<h1>Data Science Tools and Ecosystem</h1>\n",
        "\n"
      ],
      "metadata": {
        "id": "hAqM6xGzOLTT"
      }
    },
    {
      "cell_type": "markdown",
      "source": [
        "In this notebook, Data Science Tools and Ecosystem are summarized."
      ],
      "metadata": {
        "id": "uZkC8Tq-UpZe"
      }
    },
    {
      "cell_type": "markdown",
      "source": [
        "**Objectives**\n",
        "\n",
        "\n",
        "\n",
        "*   Commonly used libraries used by Data Scientists\n",
        "*   Popular languages that Data Scientists uses\n",
        "*   Evaluating arithmetic expressions in Python\n"
      ],
      "metadata": {
        "id": "kRllxrE5bbZM"
      }
    },
    {
      "cell_type": "markdown",
      "source": [
        "Some of the popular languages that Data Scientists use are:\n",
        "\n",
        "\n",
        "1.   Python\n",
        "2.   R Language\n",
        "3.   Scala\n",
        "\n",
        "\n",
        "\n",
        "\n"
      ],
      "metadata": {
        "id": "6K6gq_FZVBtO"
      }
    },
    {
      "cell_type": "markdown",
      "source": [
        "Some of the commonly used libraries used by Data Scientists include:\n",
        "\n",
        "\n",
        "1.   Pandas\n",
        "2.   NumPy\n",
        "3.  TensorFlow\n",
        "\n"
      ],
      "metadata": {
        "id": "yqGuqR7UVwim"
      }
    },
    {
      "cell_type": "markdown",
      "source": [
        "Data Science Tools |\n",
        "-------------------|\n",
        "Watson Studio      |\n",
        "Hadoop             |\n",
        "Apache Spark       |\n"
      ],
      "metadata": {
        "id": "_Js2P-KEYse5"
      }
    },
    {
      "cell_type": "markdown",
      "source": [
        "<H3>Below are a few examples of evaluating arithmetic expressions in Python</H3>"
      ],
      "metadata": {
        "id": "ag-NgEVaZmB5"
      }
    },
    {
      "cell_type": "code",
      "execution_count": 1,
      "metadata": {
        "id": "2NXjmxQhOGQs",
        "colab": {
          "base_uri": "https://localhost:8080/"
        },
        "outputId": "7854a782-e8b6-4c0e-f222-238f357ae300"
      },
      "outputs": [
        {
          "output_type": "execute_result",
          "data": {
            "text/plain": [
              "17"
            ]
          },
          "metadata": {},
          "execution_count": 1
        }
      ],
      "source": [
        "# This a simple arithmetic expression to mutiply then add integers\n",
        "\n",
        "(3*4)+5"
      ]
    },
    {
      "cell_type": "code",
      "source": [
        "# This will convert 200 minutes to hours by diving by 60\n",
        "\n",
        "(200/60)"
      ],
      "metadata": {
        "colab": {
          "base_uri": "https://localhost:8080/"
        },
        "id": "ADPERgk7aAOw",
        "outputId": "1cc87ef5-72f9-4fa8-f3bb-d7ddba7afec5"
      },
      "execution_count": 2,
      "outputs": [
        {
          "output_type": "execute_result",
          "data": {
            "text/plain": [
              "3.3333333333333335"
            ]
          },
          "metadata": {},
          "execution_count": 2
        }
      ]
    },
    {
      "cell_type": "markdown",
      "source": [
        "<H2>Author</H2>\n",
        "Mushtaq Ahmed"
      ],
      "metadata": {
        "id": "3Mohau-7cnRd"
      }
    },
    {
      "cell_type": "code",
      "source": [],
      "metadata": {
        "id": "8cr5DIwUa5FA"
      },
      "execution_count": null,
      "outputs": []
    }
  ]
}